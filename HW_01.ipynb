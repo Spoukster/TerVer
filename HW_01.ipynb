{
 "cells": [
  {
   "cell_type": "code",
   "execution_count": 1,
   "metadata": {},
   "outputs": [],
   "source": [
    "import numpy as np"
   ]
  },
  {
   "cell_type": "markdown",
   "metadata": {},
   "source": [
    "### Задача 1\n",
    "Группа студентов изучает 10 различных дисциплин. Сколькими способами можно составить рассписание на понедельник, если в этот день должно быть 4 разных занятия?\n",
    "\n",
    "\n",
    "Т.к. нам не важен порядок занятий, то воспользуемся формулой сочетаний "
   ]
  },
  {
   "cell_type": "code",
   "execution_count": 40,
   "metadata": {},
   "outputs": [],
   "source": [
    "def combinations(n, k):\n",
    "    return np.math.factorial(n) / (np.math.factorial(k) * np.math.factorial(n - k))"
   ]
  },
  {
   "cell_type": "code",
   "execution_count": 41,
   "metadata": {},
   "outputs": [
    {
     "data": {
      "text/plain": [
       "210.0"
      ]
     },
     "execution_count": 41,
     "metadata": {},
     "output_type": "execute_result"
    }
   ],
   "source": [
    "combinations(10, 4)"
   ]
  },
  {
   "cell_type": "markdown",
   "metadata": {},
   "source": [
    "### Задача 2\n",
    "Из колоды в 52 карты вынимают случайным образом 4 карты. Найти число исходов , соответствующих тому, что был вытянут хотя бы один туз.\n",
    "\n",
    "\n",
    "Разложим задачу на части. Сначала найдем количество исходов где вытаскиваем только один туз из четырех, а остальные  обычные карты. Для этого найдем произведение таких сочетаний."
   ]
  },
  {
   "cell_type": "code",
   "execution_count": 42,
   "metadata": {},
   "outputs": [
    {
     "name": "stdout",
     "output_type": "stream",
     "text": [
      "69184.0\n"
     ]
    }
   ],
   "source": [
    "a = combinations(4, 1) * combinations(48, 3)\n",
    "print(a)"
   ]
  },
  {
   "cell_type": "markdown",
   "metadata": {},
   "source": [
    "Теперь найдем количество исходов с двумя тузами и двумя обычными картами."
   ]
  },
  {
   "cell_type": "code",
   "execution_count": 43,
   "metadata": {},
   "outputs": [
    {
     "name": "stdout",
     "output_type": "stream",
     "text": [
      "6768.0\n"
     ]
    }
   ],
   "source": [
    "b = combinations(4, 2) * combinations(48, 2)\n",
    "print(b)"
   ]
  },
  {
   "cell_type": "markdown",
   "metadata": {},
   "source": [
    "Найдем количество исходов с тремя тузами и одной обычной картой."
   ]
  },
  {
   "cell_type": "code",
   "execution_count": 44,
   "metadata": {},
   "outputs": [
    {
     "name": "stdout",
     "output_type": "stream",
     "text": [
      "192.0\n"
     ]
    }
   ],
   "source": [
    "c = combinations(4, 3) * combinations(48, 1)\n",
    "print(c)"
   ]
  },
  {
   "cell_type": "markdown",
   "metadata": {},
   "source": [
    "Для последнего вариант достаточно посчитать исходы для четырех тузов. Логично что такой вариант всего 1."
   ]
  },
  {
   "cell_type": "code",
   "execution_count": 45,
   "metadata": {},
   "outputs": [
    {
     "name": "stdout",
     "output_type": "stream",
     "text": [
      "1.0\n"
     ]
    }
   ],
   "source": [
    "d = combinations(4, 4)\n",
    "print(d)"
   ]
  },
  {
   "cell_type": "markdown",
   "metadata": {},
   "source": [
    "Просуммируем полученное количество исходов для каждого количества тузов."
   ]
  },
  {
   "cell_type": "code",
   "execution_count": 46,
   "metadata": {},
   "outputs": [
    {
     "name": "stdout",
     "output_type": "stream",
     "text": [
      "76145.0\n"
     ]
    }
   ],
   "source": [
    "e = a + b + c + d\n",
    "print(e)"
   ]
  },
  {
   "cell_type": "markdown",
   "metadata": {},
   "source": [
    "### Задача 3\n",
    "Семь человек рассаживаются наудачу на скамейке. Какова вероятность того, что два определенных человека будут сидеть рядом?\n",
    "\n",
    "Возьмем двух определенных человек. Относительно друг друга они могут сесть 2! способами. На скамейке они могут сесть рядом друг с другом шестью способами. Остальные пять человек могут разместиться 5! способами. Все 7 человек могут разместиться 7! способами. Отсюда получаем что m=2! * 6 * 5! (число исходов, которые влекут за собой нужное нам событие), а n=7!\n",
    "Формула вероятности $P(A) = \\dfrac{m}{n}$."
   ]
  },
  {
   "cell_type": "code",
   "execution_count": 47,
   "metadata": {},
   "outputs": [
    {
     "name": "stdout",
     "output_type": "stream",
     "text": [
      "0.2857142857142857\n"
     ]
    }
   ],
   "source": [
    "P = (np.math.factorial(2)*6*np.math.factorial(5))/np.math.factorial(7)\n",
    "print(P)"
   ]
  },
  {
   "cell_type": "markdown",
   "metadata": {},
   "source": [
    "### Задача 4\n",
    "Из 60 вопросов, входящих в экзаменационные билеты, студент знает 50. Какова вероятность того, что среди трёх наугад выбранных вопросов студент знает а) все б) два\n",
    "\n",
    "Воспользуемся формулой сочетания, т.к. нам не важен порядок вопросов."
   ]
  },
  {
   "cell_type": "markdown",
   "metadata": {},
   "source": [
    "а) Количество исходов где студент знает все 3 вопроса"
   ]
  },
  {
   "cell_type": "code",
   "execution_count": 50,
   "metadata": {},
   "outputs": [],
   "source": [
    "m = combinations(50, 3)"
   ]
  },
  {
   "cell_type": "markdown",
   "metadata": {},
   "source": [
    "Общее количество сочетаний"
   ]
  },
  {
   "cell_type": "code",
   "execution_count": 51,
   "metadata": {},
   "outputs": [],
   "source": [
    "n = combinations(60, 3)"
   ]
  },
  {
   "cell_type": "markdown",
   "metadata": {},
   "source": [
    "Вероятность"
   ]
  },
  {
   "cell_type": "code",
   "execution_count": 52,
   "metadata": {},
   "outputs": [
    {
     "name": "stdout",
     "output_type": "stream",
     "text": [
      "0.5727644652250146\n"
     ]
    }
   ],
   "source": [
    "p = m / n\n",
    "print(p)"
   ]
  },
  {
   "cell_type": "markdown",
   "metadata": {},
   "source": [
    "б)Разобьем на части. Количество исходов где студент знает ответ - сочетание из 50 по 2, количество исходов где студент не знает ответ - сочетание из 10 по 1. Итого m будет равно произведению этих двух сочетаний."
   ]
  },
  {
   "cell_type": "code",
   "execution_count": 53,
   "metadata": {},
   "outputs": [
    {
     "name": "stdout",
     "output_type": "stream",
     "text": [
      "0.35797779076563413\n"
     ]
    }
   ],
   "source": [
    "p = combinations(50, 2) * combinations(10, 1) / n\n",
    "print(p)"
   ]
  },
  {
   "cell_type": "markdown",
   "metadata": {},
   "source": [
    "### Задача 5\n",
    "Бросается игральная кость. Пусть событие $A$ - появление четного числа, событие $B$ - появление числа больше трёх. Являются ли эти события независимыми?\n",
    "\n",
    "Если рассуждать логически, то эти события независимы, т.к. при появлении на кости числа больше 3, собитие $A$ может случиться, а может и не случиться. Но подтвердим это математически.\n",
    "Вероятность события $A$ равна 1/2, т.к. есть 3 четных числа из 6. Вероятность события $B$ равна 1/2, т.к. на кости есть 3 числа больше 3. $P(A) = P(B) = 1/2$. Совместная вероятность $P(AB) = 1/4$. По формуле условной вероятности посчитаем вероятность наступление события $A$, при случившемся событии $B$\n",
    "$$P(A|B) = \\dfrac{P(AB)}{P(B)} = \\dfrac{\\frac{1}{4}}{\\frac{1}{2}} = \\dfrac{1}{2}$$\n",
    "Т.к. $P(A|B) = P(A)$ получается что события $A$ и $B$ независимы."
   ]
  },
  {
   "cell_type": "markdown",
   "metadata": {},
   "source": [
    "### Задача 6\n",
    "Может ли сумма вероятностей P(A) + P(B) быть больше единицы, если события: а) несовместимы, б) независимы. Если может, то приведите пример."
   ]
  },
  {
   "cell_type": "markdown",
   "metadata": {},
   "source": [
    "а) Нет"
   ]
  },
  {
   "cell_type": "markdown",
   "metadata": {},
   "source": [
    "б)Думаю что нет. Объяснить математически не могу."
   ]
  },
  {
   "cell_type": "markdown",
   "metadata": {},
   "source": [
    "### Задача 7\n",
    "Допустим, имеется некоторая очень редкая болезнь (поражает 0.1% населения). Вы приходите к врачу, вам делают тест на эту болезнь, и тест оказывается положительным. Врач говорит вам, что этот тест верно выявляет 99% больных этой болезнью и всего лишь в 1% случаев даёт ложный положительный ответ.\n",
    "Вопрос: какова вероятность, что вы действительно больны ей?"
   ]
  },
  {
   "cell_type": "code",
   "execution_count": null,
   "metadata": {},
   "outputs": [],
   "source": []
  }
 ],
 "metadata": {
  "kernelspec": {
   "display_name": "Python 3",
   "language": "python",
   "name": "python3"
  },
  "language_info": {
   "codemirror_mode": {
    "name": "ipython",
    "version": 3
   },
   "file_extension": ".py",
   "mimetype": "text/x-python",
   "name": "python",
   "nbconvert_exporter": "python",
   "pygments_lexer": "ipython3",
   "version": "3.7.3"
  }
 },
 "nbformat": 4,
 "nbformat_minor": 2
}
