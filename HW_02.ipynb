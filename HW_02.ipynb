{
 "cells": [
  {
   "cell_type": "code",
   "execution_count": 1,
   "metadata": {},
   "outputs": [],
   "source": [
    "import numpy as np"
   ]
  },
  {
   "cell_type": "code",
   "execution_count": 2,
   "metadata": {},
   "outputs": [],
   "source": [
    "def combinations(n, k):\n",
    "    return np.math.factorial(n) / (np.math.factorial(k) * np.math.factorial(n - k))"
   ]
  },
  {
   "cell_type": "markdown",
   "metadata": {},
   "source": [
    "### Задача 1\n",
    "Контрольная работа состоит из пяти вопросов. На каждый вопрос приведено четыре варианта ответа, один из которых правильный. Составьте закон распределения числа правильных ответов при простом угадывании. Найдите $M(X)$, $D(X)$.\n",
    "\n",
    "Принимаемые значения данной случайной величины будут: $x_0 = 0$, $x_1 = 1$, $x_2 = 2$, $x_3 = 3$, $x_4 = 4$, $x_5 = 5$.\n",
    "Всего возможных вариантов ответов на контрольную будет $C_{20}^5$."
   ]
  },
  {
   "cell_type": "markdown",
   "metadata": {},
   "source": [
    "Все вероятности принимаемых значений можно описать по формуле $P(X = x_i) =\\dfrac{C_{5}^i \\cdot C_{15}^{5-i}}{C_{20}^5}$, при $0 \\leq i \\leq 5$.\n",
    "\n",
    "Получаем следующий закон распределения числа правильных ответов."
   ]
  },
  {
   "cell_type": "code",
   "execution_count": 22,
   "metadata": {},
   "outputs": [
    {
     "name": "stdout",
     "output_type": "stream",
     "text": [
      "[0.19369195046439627, 0.44020897832817335, 0.29347265221878227, 0.06772445820433437, 0.004837461300309598, 6.449948400412796e-05]\n"
     ]
    }
   ],
   "source": [
    "x_probabilities = []\n",
    "for i in range(0, 6):\n",
    "    p_i = combinations(5, i) * combinations(15, 5 - i) / combinations(20, 5)\n",
    "    x_probabilities.append(p_i)\n",
    "print(x_probabilities)"
   ]
  },
  {
   "cell_type": "markdown",
   "metadata": {},
   "source": [
    "Посчитаем математическое ожидание $M(X)$"
   ]
  },
  {
   "cell_type": "code",
   "execution_count": 16,
   "metadata": {},
   "outputs": [
    {
     "name": "stdout",
     "output_type": "stream",
     "text": [
      "[0 1 2 3 4 5]\n"
     ]
    }
   ],
   "source": [
    "x_values = np.arange(0, 6)\n",
    "print(x_values)"
   ]
  },
  {
   "cell_type": "code",
   "execution_count": 17,
   "metadata": {},
   "outputs": [
    {
     "name": "stdout",
     "output_type": "stream",
     "text": [
      "1.25\n"
     ]
    }
   ],
   "source": [
    "m = x_values.dot(x_probabilities)\n",
    "print(m)"
   ]
  },
  {
   "cell_type": "markdown",
   "metadata": {},
   "source": [
    "Формула дисперсии $D(X) = M \\left( (X - M(X))^2 \\right).$ Найдем сначала значения $X - M(X)$, примем ее за $Y$."
   ]
  },
  {
   "cell_type": "code",
   "execution_count": 18,
   "metadata": {},
   "outputs": [
    {
     "name": "stdout",
     "output_type": "stream",
     "text": [
      "[-1.25 -0.25  0.75  1.75  2.75  3.75]\n"
     ]
    }
   ],
   "source": [
    "y_values = x_values - m\n",
    "print(y_values)"
   ]
  },
  {
   "cell_type": "markdown",
   "metadata": {},
   "source": [
    "Теперь найдем квадрат этих значений. Обозначим их $Z$."
   ]
  },
  {
   "cell_type": "code",
   "execution_count": 19,
   "metadata": {},
   "outputs": [
    {
     "name": "stdout",
     "output_type": "stream",
     "text": [
      "[ 1.5625  0.0625  0.5625  3.0625  7.5625 14.0625]\n"
     ]
    }
   ],
   "source": [
    "z_value = y_values ** 2\n",
    "print(z_value)"
   ]
  },
  {
   "cell_type": "markdown",
   "metadata": {},
   "source": [
    "Теперь посчитаем дисперсию $D(X)$."
   ]
  },
  {
   "cell_type": "code",
   "execution_count": 20,
   "metadata": {},
   "outputs": [
    {
     "name": "stdout",
     "output_type": "stream",
     "text": [
      "0.7401315789473684\n"
     ]
    }
   ],
   "source": [
    "d = z_value.dot(x_probabilities)\n",
    "print(d)"
   ]
  },
  {
   "cell_type": "markdown",
   "metadata": {},
   "source": [
    "### Задача 2\n",
    "Вероятность попадания в цель при одном выстреле равна 0.01. Какова вероятность того, что число попаданий при 200 выстрелах будет не менее 5 и не более 10?"
   ]
  },
  {
   "cell_type": "markdown",
   "metadata": {},
   "source": [
    "Воспользуемся биномиальным законом распределения, т.к. количество проведенных экспериментов недостаточно велико.\n",
    "$$P(X = k) = C_n^k p^k (1 - p)^{n - k}$$"
   ]
  },
  {
   "cell_type": "code",
   "execution_count": 23,
   "metadata": {},
   "outputs": [
    {
     "name": "stdout",
     "output_type": "stream",
     "text": [
      "0.051739381860374606\n"
     ]
    }
   ],
   "source": [
    "p_sum = 0\n",
    "p = 0.01\n",
    "n = 200\n",
    "for i in range(5, 11):\n",
    "    p_i = combinations(n, i) * (p ** i) * ((1 - p) ** (n - i))\n",
    "    p_sum += p_i\n",
    "print(p_sum)"
   ]
  },
  {
   "cell_type": "markdown",
   "metadata": {},
   "source": [
    "### Задача 3\n",
    "В условиях предыдущей задачи сколько выстрелов нужно сделать чтобы быть уверенным с вероятностью 0.9, что хотя бы 10 раз будет совершено попадание?\n",
    "Подсказка. Как посчитать P(X >= k) для величины X, имеющей распределение Пуассона? Здесь предстоит немножко покодить."
   ]
  },
  {
   "cell_type": "markdown",
   "metadata": {},
   "source": [
    "Распределение Пуассона $P(X = k) = \\dfrac{a^k e ^{-a}}{k!}.$ Если $a = np$, то $P(X = k) = \\dfrac{n^k p^k e ^{-np}}{k!}.$"
   ]
  },
  {
   "cell_type": "markdown",
   "metadata": {},
   "source": [
    "Вероятность попадания при одном выстреле $p=0.01$. Пусть $P(A)=0.9$ (хотя бы 10 попаданий) при $k \\geq 10$. Тогда $P(\\overline{A})=1 - P(A)=0.1$ при $k < 10$.\n",
    "\n",
    "Использую сумму вероятностей событий до 10 попаданий получим: $$ 0.1 = \\displaystyle\\sum\\limits_{k=0}^9 \\dfrac{n^k p^k e ^{-np}}{k!} = e ^{-np} \\displaystyle\\sum\\limits_{k=0}^9 \\dfrac{n^k p^k}{k!}$$\n"
   ]
  },
  {
   "cell_type": "markdown",
   "metadata": {},
   "source": [
    "А дальше я не знаю что делать) Взять натуральный логарифм от правой и левой частей, но я не знаю как вытащить n из под логарифма."
   ]
  }
 ],
 "metadata": {
  "kernelspec": {
   "display_name": "Python 3",
   "language": "python",
   "name": "python3"
  },
  "language_info": {
   "codemirror_mode": {
    "name": "ipython",
    "version": 3
   },
   "file_extension": ".py",
   "mimetype": "text/x-python",
   "name": "python",
   "nbconvert_exporter": "python",
   "pygments_lexer": "ipython3",
   "version": "3.7.3"
  }
 },
 "nbformat": 4,
 "nbformat_minor": 2
}
