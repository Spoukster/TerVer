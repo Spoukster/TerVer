{
 "cells": [
  {
   "cell_type": "code",
   "execution_count": 1,
   "metadata": {},
   "outputs": [],
   "source": [
    "import numpy as np\n",
    "from scipy import stats"
   ]
  },
  {
   "cell_type": "markdown",
   "metadata": {},
   "source": [
    "### Задача 1\n",
    "Утверждается, что шарики для подшипников, изготовленные автоматическим станком, имеют средний диаметр 17 мм. Используя уровень значимости 0.025 и правостороннюю критическую область, проверить данную гипотезу при условии, что в выборке из 100 шариков средний диаметр оказался равным 17.5 мм, а дисперсия известна и равна 4 мм.\n",
    "\n",
    "Т.к. нам известна дисперсия, то используем следующую статистику $T(X) = \\dfrac{\\overline{X} - a}{\\sigma / \\sqrt{n}}.$\n",
    "\n",
    "Остальные параметры из условия задачи равны: $a = 17$, $\\alpha = 0.025$, $\\sigma = 2$, $\\overline{X} = 17.5$\n",
    "\n",
    "Определим значение правосторонней критической области. Для этого воспользуемся функцией norm.ppf из модуля stats."
   ]
  },
  {
   "cell_type": "code",
   "execution_count": 2,
   "metadata": {},
   "outputs": [
    {
     "data": {
      "text/plain": [
       "2.241402727604947"
      ]
     },
     "execution_count": 2,
     "metadata": {},
     "output_type": "execute_result"
    }
   ],
   "source": [
    "alpha = 0.025\n",
    "\n",
    "stats.norm.ppf(1 - alpha / 2)"
   ]
  },
  {
   "cell_type": "markdown",
   "metadata": {},
   "source": [
    "Получается что наша правосторонняя критическая область равна $\\Omega_\\alpha = (2.2414, \\infty)$.\n",
    "Теперь подставим наши значения и проверим попало ли значение статистики $T$ в критическую область.\n",
    "$T(X) = \\dfrac{17.5 - 17}{2 / 10} = 5 \\cdot 0.5 = 2.5.$\n",
    "\n",
    "Значение $2.5$ попадает в нашу критическую область. Таким образом гипотеза о том что шарики для подшипников имеют средний диаметр 17 мм неверна."
   ]
  },
  {
   "cell_type": "markdown",
   "metadata": {},
   "source": [
    "### Задача 2\n",
    "Известно, что генеральная совокупность распределена нормально с известным средним квадратическим отклонением 16. Найти доверительный интервал для оценки математического ожидания $a$ с надёжностью 0.95, если выборочное среднее равно 80, а объём равен 256.\n",
    "\n",
    "Зафиксируем значения из условия: $\\overline{X} = 80$, $n = 256$, $p = 0.95$, $\\sigma = 16$. Т.к. по факту нам известна дисперсия, то воспользуемся следующим доверительным интервалом:\n",
    "$\n",
    "P \\left(\n",
    "    \\overline{X} - t_{1 - \\alpha / 2} \\cdot \\dfrac{\\sigma}{\\sqrt{n}}\n",
    "    \\leq a \\leq \n",
    "    \\overline{X} + t_{1 - \\alpha / 2} \\cdot \\dfrac{\\sigma}{\\sqrt{n}}\n",
    "\\right) = p.\n",
    "$\n",
    "\n",
    "$p = 1 - \\alpha$, отсюда $\\alpha = 1 - p = 1 - 0.95 = 0.05$. Мы знаем что для стандартного распределения и $\\alpha = 0.05$ значение $t_{1 - \\alpha/2}$ будет равно $2$."
   ]
  },
  {
   "cell_type": "code",
   "execution_count": 7,
   "metadata": {},
   "outputs": [
    {
     "data": {
      "text/plain": [
       "(78.0, 82.0)"
      ]
     },
     "execution_count": 7,
     "metadata": {},
     "output_type": "execute_result"
    }
   ],
   "source": [
    "mean = 80\n",
    "n = 256\n",
    "t = 2\n",
    "std = 16\n",
    "(mean - t * std / np.sqrt(n), mean + t * std / np.sqrt(n))"
   ]
  },
  {
   "cell_type": "markdown",
   "metadata": {},
   "source": [
    "### Задача 3\n",
    "Продавец утверждает, что средний вес пачки печенья составляет 200 г. Из партии извлечена выборка из 10 пачек. Вес каждой пачки составляет:\n",
    "\n",
    "202, 203, 199, 197, 195, 201, 200, 204, 194, 190\n",
    "\n",
    "Известно, что их веса распределены нормально. Верно ли утверждение продавца, если учитывать, что уровень значимости равен 1%?\n",
    "\n",
    "Предположим что утверждение продавца неверно.\n",
    "Как обычно зафиксируем значения: $\\overline{X} = 200$, $n = 10$, $\\alpha = 0.01$. Т.к. дисперсия нам неизвестна, то воспользуемся t-распределением Стьюдента. Найдем недостающее значение несмещенной оценки для среднеквадратического отклонения и среднее выборки."
   ]
  },
  {
   "cell_type": "code",
   "execution_count": 4,
   "metadata": {},
   "outputs": [
    {
     "data": {
      "text/plain": [
       "(198.5, 4.453463071962462)"
      ]
     },
     "execution_count": 4,
     "metadata": {},
     "output_type": "execute_result"
    }
   ],
   "source": [
    "samples = np.array([202, 203, 199, 197, 195, 201, 200, 204, 194, 190])\n",
    "mean = samples.mean()\n",
    "std = samples.std(ddof=1)\n",
    "mean, std"
   ]
  },
  {
   "cell_type": "markdown",
   "metadata": {},
   "source": [
    "Для построения критической области найдем нужный нам квантиль $t_{1 - \\alpha/2, \\: n - 1}$"
   ]
  },
  {
   "cell_type": "code",
   "execution_count": 5,
   "metadata": {},
   "outputs": [
    {
     "data": {
      "text/plain": [
       "3.2498355440153697"
      ]
     },
     "execution_count": 5,
     "metadata": {},
     "output_type": "execute_result"
    }
   ],
   "source": [
    "alpha = 0.01\n",
    "n = 10\n",
    "t = stats.t.ppf(1 - alpha / 2, df=n - 1)\n",
    "t"
   ]
  },
  {
   "cell_type": "markdown",
   "metadata": {},
   "source": [
    "Критическая область в нашем случае будет $\\Omega_\\alpha = \\left( -\\infty, -3.2498 \\right) \\cup \\left( 3.2498, \\infty \\right).$\n",
    "\n",
    "Теперь соберем все вместе и посмотрим попадает ли наше значение статистики в критическую область."
   ]
  },
  {
   "cell_type": "code",
   "execution_count": 6,
   "metadata": {},
   "outputs": [
    {
     "data": {
      "text/plain": [
       "1.0651074037450896"
      ]
     },
     "execution_count": 6,
     "metadata": {},
     "output_type": "execute_result"
    }
   ],
   "source": [
    "X = 200\n",
    "T = (X - mean) / (std / np.sqrt(n))\n",
    "T"
   ]
  },
  {
   "cell_type": "markdown",
   "metadata": {},
   "source": [
    "Т.к. значение статистики $T$ не попало в критическую область, то утверждение продавца истинно."
   ]
  }
 ],
 "metadata": {
  "kernelspec": {
   "display_name": "Python 3",
   "language": "python",
   "name": "python3"
  },
  "language_info": {
   "codemirror_mode": {
    "name": "ipython",
    "version": 3
   },
   "file_extension": ".py",
   "mimetype": "text/x-python",
   "name": "python",
   "nbconvert_exporter": "python",
   "pygments_lexer": "ipython3",
   "version": "3.7.3"
  }
 },
 "nbformat": 4,
 "nbformat_minor": 2
}
